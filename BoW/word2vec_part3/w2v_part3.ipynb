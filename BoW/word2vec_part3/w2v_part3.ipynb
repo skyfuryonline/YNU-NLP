{
 "cells": [
  {
   "cell_type": "code",
   "execution_count": 1,
   "metadata": {},
   "outputs": [],
   "source": [
    "from gensim.models import Word2Vec\n",
    "\n",
    "model = Word2Vec.load(\"300features_40minwords_10context\")"
   ]
  },
  {
   "cell_type": "code",
   "execution_count": 2,
   "metadata": {},
   "outputs": [],
   "source": [
    "import pandas as  pd\n",
    "\n",
    "train = pd.read_csv(\"labeledTrainData.tsv\",header=0,delimiter=\"\\t\",quoting=3)\n",
    "unlabeled_train = pd.read_csv(\"unlabeledTrainData.tsv\",header=0,delimiter=\"\\t\",quoting=3)\n",
    "test = pd.read_csv(\"testData.tsv\",header=0,delimiter=\"\\t\",quoting=3)\n",
    "\n",
    "from bs4 import BeautifulSoup\n",
    "import re\n",
    "from nltk.corpus import stopwords\n",
    "\n",
    "def review_to_wordlist(review,remove_stopwords=False):\n",
    "    review_text = BeautifulSoup(review).get_text()\n",
    "    review_text = re.sub(\"[^a-zA-Z]\",\" \",review_text)\n",
    "    words = review_text.lower().split()\n",
    "    if remove_stopwords==True:\n",
    "        stops = set(stopwords.words(\"english\"))\n",
    "        words = [w for w in words if not w in stops]\n",
    "    return words\n",
    "\n",
    "num_features=300\n",
    "min_words_count =40\n",
    "downsampling=1e-3\n",
    "context= 10\n",
    "num_workers = 4\n"
   ]
  },
  {
   "cell_type": "code",
   "execution_count": 3,
   "metadata": {},
   "outputs": [],
   "source": [
    "import numpy as np\n",
    "def makeFeatureVec(words,model,num_features):\n",
    "    featureVec = np.zeros((num_features,),dtype=\"float32\")\n",
    "    nwords = 0\n",
    "    index2word_set = set(model.wv.index_to_key)\n",
    "    for word in words:\n",
    "        if word in index2word_set:\n",
    "            nwords += 1\n",
    "            featureVec = np.add(featureVec,model.wv[word])\n",
    "    featureVec = np.divide(featureVec,nwords)\n",
    "    return featureVec"
   ]
  },
  {
   "cell_type": "code",
   "execution_count": 4,
   "metadata": {},
   "outputs": [],
   "source": [
    "def getAvgFeatureVecs(reviews,model,num_features):\n",
    "    counter = 0\n",
    "    reviewFeatureVecs = np.zeros((len(reviews),num_features),dtype=\"float32\")\n",
    "    for review in reviews:\n",
    "        if counter%1000==0:\n",
    "            print (\"review %d of %d\" %(counter,len(reviews)))\n",
    "        reviewFeatureVecs[counter] = makeFeatureVec(review,model,num_features)\n",
    "        counter+=1\n",
    "    return reviewFeatureVecs"
   ]
  },
  {
   "cell_type": "code",
   "execution_count": 5,
   "metadata": {},
   "outputs": [
    {
     "name": "stderr",
     "output_type": "stream",
     "text": [
      "/var/folders/9c/fs4ghgt579d29fb6jsxdrls40000gn/T/ipykernel_28393/4243584205.py:12: MarkupResemblesLocatorWarning: The input looks more like a filename than markup. You may want to open this file and pass the filehandle into Beautiful Soup.\n",
      "  review_text = BeautifulSoup(review).get_text()\n"
     ]
    },
    {
     "name": "stdout",
     "output_type": "stream",
     "text": [
      "review 0 of 25000\n",
      "review 1000 of 25000\n",
      "review 2000 of 25000\n",
      "review 3000 of 25000\n",
      "review 4000 of 25000\n",
      "review 5000 of 25000\n",
      "review 6000 of 25000\n",
      "review 7000 of 25000\n",
      "review 8000 of 25000\n",
      "review 9000 of 25000\n",
      "review 10000 of 25000\n",
      "review 11000 of 25000\n",
      "review 12000 of 25000\n",
      "review 13000 of 25000\n",
      "review 14000 of 25000\n",
      "review 15000 of 25000\n",
      "review 16000 of 25000\n",
      "review 17000 of 25000\n",
      "review 18000 of 25000\n",
      "review 19000 of 25000\n",
      "review 20000 of 25000\n",
      "review 21000 of 25000\n",
      "review 22000 of 25000\n",
      "review 23000 of 25000\n",
      "review 24000 of 25000\n",
      "创建测试集评论的平均特征向量\n",
      "review 0 of 25000\n",
      "review 1000 of 25000\n",
      "review 2000 of 25000\n",
      "review 3000 of 25000\n",
      "review 4000 of 25000\n",
      "review 5000 of 25000\n",
      "review 6000 of 25000\n",
      "review 7000 of 25000\n",
      "review 8000 of 25000\n",
      "review 9000 of 25000\n",
      "review 10000 of 25000\n",
      "review 11000 of 25000\n",
      "review 12000 of 25000\n",
      "review 13000 of 25000\n",
      "review 14000 of 25000\n",
      "review 15000 of 25000\n",
      "review 16000 of 25000\n",
      "review 17000 of 25000\n",
      "review 18000 of 25000\n",
      "review 19000 of 25000\n",
      "review 20000 of 25000\n",
      "review 21000 of 25000\n",
      "review 22000 of 25000\n",
      "review 23000 of 25000\n",
      "review 24000 of 25000\n"
     ]
    }
   ],
   "source": [
    "clean_train_reviews = []\n",
    "for review in train[\"review\"]:\n",
    "    clean_train_reviews.append(review_to_wordlist(review,remove_stopwords=True))\n",
    "\n",
    "trainDataVecs = getAvgFeatureVecs(clean_train_reviews,model,num_features)\n",
    "\n",
    "print(\"创建测试集评论的平均特征向量\")\n",
    "clean_test_reviews = []\n",
    "for review in test[\"review\"]:\n",
    "    clean_test_reviews.append(review_to_wordlist(review,remove_stopwords=True))\n",
    "\n",
    "testDataVecs = getAvgFeatureVecs(clean_test_reviews,model,num_features)"
   ]
  },
  {
   "cell_type": "code",
   "execution_count": 6,
   "metadata": {},
   "outputs": [
    {
     "name": "stdout",
     "output_type": "stream",
     "text": [
      "将labeled training data拟合到随机森林...\n"
     ]
    }
   ],
   "source": [
    "from sklearn.ensemble import RandomForestClassifier\n",
    "forest = RandomForestClassifier(n_estimators=100)\n",
    "\n",
    "print(\"将labeled training data拟合到随机森林...\")\n",
    "forest = forest.fit(trainDataVecs,train[\"sentiment\"])\n",
    "\n",
    "result = forest.predict(testDataVecs)\n",
    "output = pd.DataFrame( data={\"Id\":test[\"id\"], \"sentiment\":result} )\n",
    "output.to_csv( \"Word2Vec_AverageVectors.csv\", index=False, quoting=3 )"
   ]
  }
 ],
 "metadata": {
  "kernelspec": {
   "display_name": "NLP",
   "language": "python",
   "name": "python3"
  },
  "language_info": {
   "codemirror_mode": {
    "name": "ipython",
    "version": 3
   },
   "file_extension": ".py",
   "mimetype": "text/x-python",
   "name": "python",
   "nbconvert_exporter": "python",
   "pygments_lexer": "ipython3",
   "version": "3.9.19"
  }
 },
 "nbformat": 4,
 "nbformat_minor": 2
}
